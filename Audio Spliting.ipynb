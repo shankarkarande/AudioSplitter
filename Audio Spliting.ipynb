{
 "cells": [
  {
   "cell_type": "code",
   "execution_count": 4,
   "id": "7b83ab9e",
   "metadata": {},
   "outputs": [
    {
     "name": "stdout",
     "output_type": "stream",
     "text": [
      "Requirement already satisfied: pydub in c:\\users\\user\\anaconda3\\lib\\site-packages (0.25.1)\n",
      "Note: you may need to restart the kernel to use updated packages.\n"
     ]
    }
   ],
   "source": [
    "pip install pydub"
   ]
  },
  {
   "cell_type": "code",
   "execution_count": 6,
   "id": "73b1c456",
   "metadata": {},
   "outputs": [],
   "source": [
    "from pydub import AudioSegment "
   ]
  },
  {
   "cell_type": "code",
   "execution_count": 7,
   "id": "bea40587",
   "metadata": {},
   "outputs": [],
   "source": [
    "song = AudioSegment.from_file(r\"audio.wav\", format=\"wav\") "
   ]
  },
  {
   "cell_type": "markdown",
   "id": "41027880",
   "metadata": {},
   "source": [
    "### one segment of first one min."
   ]
  },
  {
   "cell_type": "code",
   "execution_count": 14,
   "id": "72899140",
   "metadata": {},
   "outputs": [
    {
     "name": "stdout",
     "output_type": "stream",
     "text": [
      "New Audio file is created and saved\n"
     ]
    }
   ],
   "source": [
    "ten_seconds = 60 * 1000 \n",
    "first_10_seconds = song[:ten_seconds] \n",
    "   \n",
    "first_10_seconds.export(\"first_ten.wav\", format=\"wav\") \n",
    "print(\"New Audio file is created and saved\") "
   ]
  },
  {
   "cell_type": "markdown",
   "id": "4fb097ef",
   "metadata": {},
   "source": [
    "###  Different Segments Per Minutes."
   ]
  },
  {
   "cell_type": "code",
   "execution_count": 15,
   "id": "2625788c",
   "metadata": {},
   "outputs": [],
   "source": [
    "song = AudioSegment.from_wav(\"audio.wav\")"
   ]
  },
  {
   "cell_type": "code",
   "execution_count": 16,
   "id": "19347e3d",
   "metadata": {},
   "outputs": [],
   "source": [
    "segment_duration = 60 * 1000"
   ]
  },
  {
   "cell_type": "code",
   "execution_count": 17,
   "id": "9cb5e21f",
   "metadata": {},
   "outputs": [],
   "source": [
    "num_segments = len(song) // segment_duration"
   ]
  },
  {
   "cell_type": "code",
   "execution_count": 18,
   "id": "b1af6b5b",
   "metadata": {},
   "outputs": [
    {
     "name": "stdout",
     "output_type": "stream",
     "text": [
      "Segment 1 saved.\n",
      "Segment 2 saved.\n",
      "Segment 3 saved.\n",
      "Segment 4 saved.\n",
      "All segments are created and saved.\n"
     ]
    }
   ],
   "source": [
    "for i in range(num_segments):\n",
    "    start_time = i * segment_duration\n",
    "    end_time = (i + 1) * segment_duration\n",
    "    segment = song[start_time:end_time]\n",
    "    segment.export(f\"segment_{i + 1}.wav\", format=\"wav\")\n",
    "    print(f\"Segment {i + 1} saved.\")\n",
    "print(\"All segments are created and saved.\")"
   ]
  },
  {
   "cell_type": "code",
   "execution_count": null,
   "id": "3bfb7c79",
   "metadata": {},
   "outputs": [],
   "source": [
    "    "
   ]
  }
 ],
 "metadata": {
  "kernelspec": {
   "display_name": "Python 3 (ipykernel)",
   "language": "python",
   "name": "python3"
  },
  "language_info": {
   "codemirror_mode": {
    "name": "ipython",
    "version": 3
   },
   "file_extension": ".py",
   "mimetype": "text/x-python",
   "name": "python",
   "nbconvert_exporter": "python",
   "pygments_lexer": "ipython3",
   "version": "3.9.13"
  }
 },
 "nbformat": 4,
 "nbformat_minor": 5
}
